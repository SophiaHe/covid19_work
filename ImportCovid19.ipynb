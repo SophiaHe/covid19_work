{
  "nbformat": 4,
  "nbformat_minor": 0,
  "metadata": {
    "colab": {
      "name": "ImportCovid19.ipynb",
      "provenance": [],
      "collapsed_sections": [],
      "authorship_tag": "ABX9TyOKz7saX417KnKSaU+HMaaV",
      "include_colab_link": true
    },
    "kernelspec": {
      "name": "python3",
      "display_name": "Python 3"
    }
  },
  "cells": [
    {
      "cell_type": "markdown",
      "metadata": {
        "id": "view-in-github",
        "colab_type": "text"
      },
      "source": [
        "<a href=\"https://colab.research.google.com/github/SophiaHe/covid19_work/blob/master/ImportCovid19.ipynb\" target=\"_parent\"><img src=\"https://colab.research.google.com/assets/colab-badge.svg\" alt=\"Open In Colab\"/></a>"
      ]
    },
    {
      "cell_type": "markdown",
      "metadata": {
        "id": "rK851O9DLKO0",
        "colab_type": "text"
      },
      "source": [
        "Import WHO Daily Covid-19 Data"
      ]
    },
    {
      "cell_type": "code",
      "metadata": {
        "id": "NIJBN4I50b92",
        "colab_type": "code",
        "outputId": "c4fc6b6b-c35b-430e-f242-225d1d3afd97",
        "colab": {
          "base_uri": "https://localhost:8080/",
          "height": 218
        }
      },
      "source": [
        "!pip install wget\n",
        "import pandas as pd\n",
        "import wget\n",
        "\n",
        "urls = ['https://raw.githubusercontent.com/CSSEGISandData/COVID-19/master/csse_covid_19_data/csse_covid_19_time_series/time_series_covid19_confirmed_global.csv', \n",
        "        'https://raw.githubusercontent.com/CSSEGISandData/COVID-19/master/csse_covid_19_data/csse_covid_19_time_series/time_series_covid19_deaths_global.csv', \n",
        "        'https://raw.githubusercontent.com/CSSEGISandData/COVID-19/master/csse_covid_19_data/csse_covid_19_time_series/time_series_covid19_recovered_global.csv']\n",
        "for url in urls:\n",
        "    filename = wget.download(url)\n",
        "\n",
        "conf_df = pd.read_csv('time_series_covid19_confirmed_global.csv')\n",
        "deaths_df = pd.read_csv('time_series_covid19_deaths_global.csv')\n",
        "recv_df = pd.read_csv('time_series_covid19_recovered_global.csv')\n",
        "\n",
        "dates = conf_df.columns[4:]\n",
        "dates2 = recv_df.columns[4:]\n",
        "\n",
        "conf_df_long = conf_df.melt(id_vars=['Province/State', 'Country/Region', 'Lat', 'Long'], \n",
        "                            value_vars=dates, var_name='Date', value_name='Confirmed')\n",
        "\n",
        "deaths_df_long = deaths_df.melt(id_vars=['Province/State', 'Country/Region', 'Lat', 'Long'], \n",
        "                            value_vars=dates, var_name='Date', value_name='Deaths')\n",
        "\n",
        "recv_df_long = recv_df.melt(id_vars=['Province/State', 'Country/Region', 'Lat', 'Long'], \n",
        "                            value_vars=dates2, var_name='Date', value_name='Recovered')\n",
        "recv_df_long['Date'] = recv_df_long['Date'].str[:-2]\n",
        "\n",
        "full_table = pd.concat([conf_df_long, deaths_df_long['Deaths'], recv_df_long['Recovered']], axis=1, sort=False)\n",
        "\n",
        "full_table.head()"
      ],
      "execution_count": 21,
      "outputs": [
        {
          "output_type": "stream",
          "text": [
            "Requirement already satisfied: wget in /usr/local/lib/python3.6/dist-packages (3.2)\n"
          ],
          "name": "stdout"
        },
        {
          "output_type": "execute_result",
          "data": {
            "text/html": [
              "<div>\n",
              "<style scoped>\n",
              "    .dataframe tbody tr th:only-of-type {\n",
              "        vertical-align: middle;\n",
              "    }\n",
              "\n",
              "    .dataframe tbody tr th {\n",
              "        vertical-align: top;\n",
              "    }\n",
              "\n",
              "    .dataframe thead th {\n",
              "        text-align: right;\n",
              "    }\n",
              "</style>\n",
              "<table border=\"1\" class=\"dataframe\">\n",
              "  <thead>\n",
              "    <tr style=\"text-align: right;\">\n",
              "      <th></th>\n",
              "      <th>Province/State</th>\n",
              "      <th>Country/Region</th>\n",
              "      <th>Lat</th>\n",
              "      <th>Long</th>\n",
              "      <th>Date</th>\n",
              "      <th>Confirmed</th>\n",
              "      <th>Deaths</th>\n",
              "      <th>Recovered</th>\n",
              "    </tr>\n",
              "  </thead>\n",
              "  <tbody>\n",
              "    <tr>\n",
              "      <th>0</th>\n",
              "      <td>NaN</td>\n",
              "      <td>Afghanistan</td>\n",
              "      <td>33.0000</td>\n",
              "      <td>65.0000</td>\n",
              "      <td>1/22/20</td>\n",
              "      <td>0</td>\n",
              "      <td>0</td>\n",
              "      <td>0.0</td>\n",
              "    </tr>\n",
              "    <tr>\n",
              "      <th>1</th>\n",
              "      <td>NaN</td>\n",
              "      <td>Albania</td>\n",
              "      <td>41.1533</td>\n",
              "      <td>20.1683</td>\n",
              "      <td>1/22/20</td>\n",
              "      <td>0</td>\n",
              "      <td>0</td>\n",
              "      <td>0.0</td>\n",
              "    </tr>\n",
              "    <tr>\n",
              "      <th>2</th>\n",
              "      <td>NaN</td>\n",
              "      <td>Algeria</td>\n",
              "      <td>28.0339</td>\n",
              "      <td>1.6596</td>\n",
              "      <td>1/22/20</td>\n",
              "      <td>0</td>\n",
              "      <td>0</td>\n",
              "      <td>0.0</td>\n",
              "    </tr>\n",
              "    <tr>\n",
              "      <th>3</th>\n",
              "      <td>NaN</td>\n",
              "      <td>Andorra</td>\n",
              "      <td>42.5063</td>\n",
              "      <td>1.5218</td>\n",
              "      <td>1/22/20</td>\n",
              "      <td>0</td>\n",
              "      <td>0</td>\n",
              "      <td>0.0</td>\n",
              "    </tr>\n",
              "    <tr>\n",
              "      <th>4</th>\n",
              "      <td>NaN</td>\n",
              "      <td>Angola</td>\n",
              "      <td>-11.2027</td>\n",
              "      <td>17.8739</td>\n",
              "      <td>1/22/20</td>\n",
              "      <td>0</td>\n",
              "      <td>0</td>\n",
              "      <td>0.0</td>\n",
              "    </tr>\n",
              "  </tbody>\n",
              "</table>\n",
              "</div>"
            ],
            "text/plain": [
              "  Province/State Country/Region      Lat  ...  Confirmed Deaths  Recovered\n",
              "0            NaN    Afghanistan  33.0000  ...          0      0        0.0\n",
              "1            NaN        Albania  41.1533  ...          0      0        0.0\n",
              "2            NaN        Algeria  28.0339  ...          0      0        0.0\n",
              "3            NaN        Andorra  42.5063  ...          0      0        0.0\n",
              "4            NaN         Angola -11.2027  ...          0      0        0.0\n",
              "\n",
              "[5 rows x 8 columns]"
            ]
          },
          "metadata": {
            "tags": []
          },
          "execution_count": 21
        }
      ]
    },
    {
      "cell_type": "code",
      "metadata": {
        "id": "Xvay6nTp0feg",
        "colab_type": "code",
        "colab": {}
      },
      "source": [
        "full_table = full_table[full_table['Province/State'].str.contains(',')!=True]\n",
        "full_table.to_csv('covid_19_clean_complete.csv', index=False)"
      ],
      "execution_count": 0,
      "outputs": []
    },
    {
      "cell_type": "markdown",
      "metadata": {
        "id": "FR2b3UvuTZaZ",
        "colab_type": "text"
      },
      "source": [
        "Web Scrapping For Ontario Patient Details"
      ]
    },
    {
      "cell_type": "code",
      "metadata": {
        "id": "_tSNCc4MLSyR",
        "colab_type": "code",
        "outputId": "bedc9755-82b0-4b40-8572-fa5db832a6b2",
        "colab": {
          "base_uri": "https://localhost:8080/",
          "height": 121
        }
      },
      "source": [
        "!pip install requests\n",
        "!pip install beautifulsoup4"
      ],
      "execution_count": 0,
      "outputs": [
        {
          "output_type": "stream",
          "text": [
            "Requirement already satisfied: requests in /usr/local/lib/python3.6/dist-packages (2.21.0)\n",
            "Requirement already satisfied: chardet<3.1.0,>=3.0.2 in /usr/local/lib/python3.6/dist-packages (from requests) (3.0.4)\n",
            "Requirement already satisfied: certifi>=2017.4.17 in /usr/local/lib/python3.6/dist-packages (from requests) (2019.11.28)\n",
            "Requirement already satisfied: urllib3<1.25,>=1.21.1 in /usr/local/lib/python3.6/dist-packages (from requests) (1.24.3)\n",
            "Requirement already satisfied: idna<2.9,>=2.5 in /usr/local/lib/python3.6/dist-packages (from requests) (2.8)\n",
            "Requirement already satisfied: beautifulsoup4 in /usr/local/lib/python3.6/dist-packages (4.6.3)\n"
          ],
          "name": "stdout"
        }
      ]
    },
    {
      "cell_type": "code",
      "metadata": {
        "id": "aPX8SFOtTYk8",
        "colab_type": "code",
        "colab": {}
      },
      "source": [
        "import requests\n",
        "from bs4 import BeautifulSoup"
      ],
      "execution_count": 0,
      "outputs": []
    },
    {
      "cell_type": "code",
      "metadata": {
        "id": "SxSAxvkzUYKb",
        "colab_type": "code",
        "colab": {}
      },
      "source": [
        "url = \"https://www.ontario.ca/page/2019-novel-coronavirus\"\n",
        "page = requests.get(url)"
      ],
      "execution_count": 0,
      "outputs": []
    },
    {
      "cell_type": "code",
      "metadata": {
        "id": "RMIS2TipUqzh",
        "colab_type": "code",
        "outputId": "4066b4d8-e84e-44a5-fc49-3ff3df1781ed",
        "colab": {
          "base_uri": "https://localhost:8080/",
          "height": 35
        }
      },
      "source": [
        "print(page.status_code) "
      ],
      "execution_count": 0,
      "outputs": [
        {
          "output_type": "stream",
          "text": [
            "200\n"
          ],
          "name": "stdout"
        }
      ]
    },
    {
      "cell_type": "code",
      "metadata": {
        "id": "GdhToHGSUwD_",
        "colab_type": "code",
        "outputId": "94acaa9b-3665-4247-ccd0-d48943064442",
        "colab": {
          "base_uri": "https://localhost:8080/",
          "height": 55
        }
      },
      "source": [
        "print(page.content)"
      ],
      "execution_count": 0,
      "outputs": [
        {
          "output_type": "stream",
          "text": [
            "b'<!doctype html> <html class=\"no-js\" lang=\"en\"> <head> <meta charset=\"utf-8\"> <meta name=\"viewport\" content=\"width=device-width,initial-scale=1\"> <meta http-equiv=\"X-UA-Compatible\" content=\"IE=edge\"> <meta name=\"sha\" content=\"2488e70214b0dfd8a40df37427e9633c8f527b3d\"> <title></title> <base href=\"/\"> <link rel=\"stylesheet\" media=\"screen\" href=\"/css/combined.css\"> <link rel=\"stylesheet\" media=\"print\" href=\"/css/print.css\"> <script src=\"/vendor/modernizr/modernizr.js\"></script> <script>!function(a,e,o,n,c,i,t){a.GoogleAnalyticsObject=c,a.ga=a.ga||function(){(a.ga.q=a.ga.q||[]).push(arguments)},a.ga.l=1*new Date,i=e.createElement(o),t=e.getElementsByTagName(o)[0],i.async=1,i.src=\"//www.google-analytics.com/analytics.js\",t.parentNode.insertBefore(i,t)}(window,document,\"script\",0,\"ga\"),ga(\"create\",\"UA-21003310-6\",{cookieDomain:\"auto\",allowLinker:!0}),ga(\"create\",\"UA-48649528-1\",{cookieDomain:\"auto\",allowLinker:!0,name:\"ServiceOntario\"}),ga(\"require\",\"linker\"),ga(\"linker:autoLink\",[\"serviceontario.ca\",\"services.gov.on.ca\",\"appmybizaccount.gov.on.ca\",\"appointments.gov.on.ca\",\"personalproperty.gov.on.ca\",\"orgforms.gov.on.ca\",\"services1.gov.on.ca\"])</script> <link rel=\"icon\" href=\"/img/favicon.ico\" type=\"image/x-icon\"> <link rel=\"shortcut icon\" href=\"/img/favicon.ico\" type=\"image/x-icon\"> <link class=\"hreflang\"> <link class=\"hreflang-alt\"> <!-- Bing webmaster tools --> <meta name=\"msvalidate.01\" content=\"1458065E1A4468FEAE68FAF332D18764\"> <script src=\"https://www.google.com/recaptcha/api.js?render=explicit\" async defer=\"defer\"></script> </head> <body ng-app=\"onesite.app\" ng-controller=\"MainController as mainController\" ng-cloak class=\"node-{{ mainController.node.content.id }}\" ng-class=\"{\\'static splash\\': mainController.node.content.type === \\'splash\\',\\n         \\'static home-page\\': mainController.node.content.type === \\'homepage\\'}\"> <noscript> <header> <div class=\"row expanded\"> <div class=\"small-12 columns\"> <div class=\"iconWrapperLongNoBg iconLogoHeader\"> <img class=\"site-logo\" ng-src=\"/img/logo-ontario@2x.png\" alt=\"Government of Ontario | Gouvernement de l\\xe2\\x80\\x99Ontario\" src=\"/img/logo-ontario@2x.png\"> </div> </div> </div> </header> <main style=\"margin-top:1em\"> <div class=\"row\"> <div class=\"small-9 columns\" lang=\"en\"> <h1>JavaScript is required to view this site</h1> <p>Ontario.ca needs JavaScript to function properly and provide you with a fast, stable experience. Please enable JavaScript or check your browser\\'s settings.</p> </div> <div class=\"small-12 columns\" lang=\"fr\"> <h1>JavaScript est n\\xc3\\xa9cessaire pour ce site</h1> <p>Le site Ontario.ca exige JavaScript pour fonctionner comme il faut, avec rapidit\\xc3\\xa9 et stabilit\\xc3\\xa9. Veuillez activer JavaScript ou v\\xc3\\xa9rifier les param\\xc3\\xa8tres de votre navigateur.</p> </div> </div> </main> </noscript> <!--\\n      Skip link that appears on focus, don\\'t add to select language page or search\\n    --> <div class=\"row\" ng-if=\"mainController.node.content.params.contentType !== \\'#!\\'\"> <div class=\"columns center small-3 small-centered\"> <a ng-if=\"mainController.node.content.params.contentType !== \\'searchResults\\'\" id=\"skip-link\" href=\"{{mainController.node.content.params.alias}}#ng-view\" class=\"show-on-focus skip-link\" target=\"_self\"> {{ \\'Skip to main content\\' | translate }} </a> <!--\\n              For all search related pages, i.e. main search, trade calendar, gazette,\\n              orders in council, data catalogue, land registration, etc.\\n\\n              With this implementation, the skip link will only work on the first click\\n              and will benefit mostly when a user clicks a search page with a query already\\n              in the URL. This is a workaround since the mainController doesn\\'t have access\\n              to updated queries.\\n            --> <a ng-if=\"mainController.node.content.params.contentType === \\'searchResults\\'\" id=\"skip-link\" href=\"#ng-view\" class=\"show-on-focus skip-link\"> {{ \\'Skip to main content\\' | translate }} </a> </div> </div> <onesite-header content-node=\"mainController.node.content\" search=\"mainController.search\" update=\"mainController.update\" role=\"banner\" ng-show=\"mainController.node.content.headerType\" id=\"ng-view-header\"> </onesite-header> <div id=\"ie10\" class=\"ie10\" style=\"margin-bottom:0\"> <div class=\"row small\"> <div class=\"small-1 columns\"> <img alt=\"\" class=\"top-margin-half\" src=\"https://files.ontario.ca/banner-icon-alert-xsmall.png\"> </div> <div class=\"small-11 columns\"> <p lang=\"en\"> You are using an outdated browser that is no longer supported by Ontario.ca. <br>Outdated browsers lack safety features that keep your information secure, and they can also be slow. <br><a href=\"/page/browsers\">Learn about the browsers we support.</a> </p> <p lang=\"fr\" style=\"margin-bottom:0\"> Vous utilisez un navigateur d\\xc3\\xa9suet qui n\\xe2\\x80\\x99est plus accept\\xc3\\xa9 par Ontario.ca. <br>Les navigateurs d\\xc3\\xa9suets ne disposent pas de caract\\xc3\\xa9ristiques s\\xc3\\xa9curitaires permettant d\\xe2\\x80\\x99assurer la s\\xc3\\xa9curit\\xc3\\xa9 de vos renseignements. <br><a href=\"/fr/page/navigateurs\">En savoir plus sur les navigateurs que nous supportons.</a> </p> </div> </div> </div> <div ng-view id=\"ng-view\"></div> <script src=\"/vendor/moment/min/moment.min.js\"></script> <script src=\"https://cdnjs.cloudflare.com/ajax/libs/jquery/2.2.4/jquery.min.js\"></script> <script src=\"/js/libs.min.js\"></script> <noscript><iframe src=\"https://www.googletagmanager.com/ns.html?id=GTM-T7V5LF\" height=\"0\" width=\"0\" style=\"display:none;visibility:hidden\"></iframe></noscript> <script>!function(e,t,a,n,g){e[n]=e[n]||[],e[n].push({\"gtm.start\":(new Date).getTime(),event:\"gtm.js\"});var m=t.getElementsByTagName(a)[0],r=t.createElement(a);r.async=!0,r.src=\"//www.googletagmanager.com/gtm.js?id=GTM-T7V5LF\",m.parentNode.insertBefore(r,m)}(window,document,\"script\",\"dataLayer\")</script> <script src=\"/onesite_modules/onesite-angular-foundation/onesite-angular-foundation.min.js\"></script> <script src=\"/onesite_modules/onesite-analytics/onesite-analytics.min.js\"></script> <script src=\"/onesite_modules/onesite-search/onesite-search.min.js\"></script> <script src=\"/onesite_modules/onesite-contact-us/onesite-contact-us.min.js\"></script> <script src=\"/onesite_modules/onesite-body/onesite-body.min.js\"></script> <script src=\"/onesite_modules/onesite-live-chat/onesite-live-chat.min.js\"></script> <script src=\"/onesite_modules/onesite-holiday-pay-calculator/onesite-holiday-pay-calculator.min.js\"></script> <script src=\"/onesite_modules/onesite-moment/onesite-moment.min.js\"></script> <script src=\"/onesite_modules/onesite-health/yellowCard/onesite-health.min.js\"></script> <script src=\"/core_modules/content-type/content-type.min.js\"></script> <script src=\"/core_modules/component/component.min.js\"></script> <script src=\"/js/app.min.js\"></script> <script src=\"/splash/splash.min.js\"></script> \\n    <script type=\"text/javascript\">\\n      /*@cc_on\\n        if (/^9|10/.test(@_jscript_version)) {\\n          document.getElementById(\"ie10\").className = \"alert-box\";\\n        }\\n      @*/\\n    </script>\\n     </body> </html> '\n"
          ],
          "name": "stdout"
        }
      ]
    },
    {
      "cell_type": "code",
      "metadata": {
        "id": "hUdIMMizyKRf",
        "colab_type": "code",
        "outputId": "a49c493c-5f2c-4234-cc28-3ce17ac6bee7",
        "colab": {
          "base_uri": "https://localhost:8080/",
          "height": 1000
        }
      },
      "source": [
        "import numpy as np\n",
        "import pandas as pd\n",
        "from scipy.integrate import solve_ivp\n",
        "from scipy.optimize import minimize\n",
        "import matplotlib.pyplot as plt\n",
        "from datetime import timedelta, datetime\n",
        "\n",
        "S_0 = 15000\n",
        "I_0 = 2\n",
        "R_0 = 0\n",
        "\n",
        "START_DATE = {\n",
        "  'Japan': '1/22/20',\n",
        "  'Italy': '1/31/20',\n",
        "  'Republic of Korea': '1/22/20',\n",
        "  'Iran (Islamic Republic of)': '2/19/20',\n",
        "  'Mainland China': '1/22/20',\n",
        "  'Canada': '1/22/20',\n",
        "  'US': '1/22/20'\n",
        "}\n",
        "\n",
        "class Learner(object):\n",
        "    def __init__(self, country, loss):\n",
        "        self.country = country\n",
        "        self.loss = loss\n",
        "\n",
        "    def load_confirmed(self, country):\n",
        "      df = pd.read_csv('https://raw.githubusercontent.com/Lewuathe/COVID19-SIR/master/data/time_series_19-covid-Confirmed.csv')\n",
        "      country_df = df[df['Country/Region'] == country]\n",
        "      return country_df.iloc[0].loc[START_DATE[country]:]\n",
        "\n",
        "    def load_recovered(self, country):\n",
        "      df = pd.read_csv('https://raw.githubusercontent.com/Lewuathe/COVID19-SIR/master/data/time_series_19-covid-Recovered.csv')\n",
        "      country_df = df[df['Country/Region'] == country]\n",
        "      return country_df.iloc[0].loc[START_DATE[country]:]\n",
        "\n",
        "    def extend_index(self, index, new_size):\n",
        "        values = index.values\n",
        "        current = datetime.strptime(index[-1], '%m/%d/%y')\n",
        "        while len(values) < new_size:\n",
        "            current = current + timedelta(days=1)\n",
        "            values = np.append(values, datetime.strftime(current, '%m/%d/%y'))\n",
        "        return values\n",
        "\n",
        "    def predict(self, beta, gamma, data, recovered, country):\n",
        "        predict_range = 150\n",
        "        new_index = self.extend_index(data.index, predict_range)\n",
        "        size = len(new_index)\n",
        "        def SIR(t, y):\n",
        "            S = y[0]\n",
        "            I = y[1]\n",
        "            R = y[2]\n",
        "            return [-beta*S*I, beta*S*I-gamma*I, gamma*I]\n",
        "        extended_actual = np.concatenate((data.values, [None] * (size - len(data.values))))\n",
        "        extended_recovered = np.concatenate((recovered.values, [None] * (size - len(recovered.values))))\n",
        "        return new_index, extended_actual, extended_recovered, solve_ivp(SIR, [0, size], [S_0,I_0,R_0], t_eval=np.arange(0, size, 1))\n",
        "\n",
        "    def train(self):\n",
        "        data = self.load_confirmed(self.country)\n",
        "        recovered = self.load_recovered(self.country)\n",
        "        optimal = minimize(loss, [0.001, 0.001], args=(data, recovered), method='L-BFGS-B', bounds=[(0.00000001, 0.4), (0.00000001, 0.4)])\n",
        "        print(optimal)\n",
        "        beta, gamma = optimal.x\n",
        "        new_index, extended_actual, extended_recovered, prediction = self.predict(beta, gamma, data, recovered, self.country)\n",
        "        df = pd.DataFrame({'Confirmed': extended_actual, 'Recovered': extended_recovered, 'S': prediction.y[0], 'I': prediction.y[1], 'R': prediction.y[2]}, index=new_index)\n",
        "        fig, ax = plt.subplots(figsize=(15, 10))\n",
        "        ax.set_title(self.country)\n",
        "        df.plot(ax=ax)\n",
        "        print(f\"country={self.country}, beta={beta:.8f}, gamma={gamma:.8f}, r_0:{(beta/gamma):.8f}\")\n",
        "        fig.savefig(f\"{self.country}.png\")\n",
        "        return df\n",
        "\n",
        "def loss(point, data, recovered):\n",
        "    size = len(data)\n",
        "    beta, gamma = point\n",
        "    def SIR(t, y):\n",
        "        S = y[0]\n",
        "        I = y[1]\n",
        "        R = y[2]\n",
        "        return [-beta*S*I, beta*S*I-gamma*I, gamma*I]\n",
        "    solution = solve_ivp(SIR, [0, size], [S_0,I_0,R_0], t_eval=np.arange(0, size, 1), vectorized=True)\n",
        "    l1 = np.sqrt(np.mean((solution.y[1] - data)**2))\n",
        "    l2 = np.sqrt(np.mean((solution.y[2] - recovered)**2))\n",
        "    alpha = 0.1\n",
        "    return alpha * l1 + (1 - alpha) * l2\n",
        "\n",
        "learner = Learner('US', loss)\n",
        "learner.train()\n"
      ],
      "execution_count": 0,
      "outputs": [
        {
          "output_type": "stream",
          "text": [
            "      fun: 1.9735072467227621\n",
            " hess_inv: <2x2 LbfgsInvHessProduct with dtype=float64>\n",
            "      jac: array([6.10661932e+01, 7.47726325e-03])\n",
            "  message: b'CONVERGENCE: REL_REDUCTION_OF_F_<=_FACTR*EPSMCH'\n",
            "     nfev: 132\n",
            "      nit: 16\n",
            "   status: 0\n",
            "  success: True\n",
            "        x: array([4.99003307e-06, 1.97963899e-03])\n",
            "country=US, beta=0.00000499, gamma=0.00197964, r_0:0.00252068\n"
          ],
          "name": "stdout"
        },
        {
          "output_type": "execute_result",
          "data": {
            "text/html": [
              "<div>\n",
              "<style scoped>\n",
              "    .dataframe tbody tr th:only-of-type {\n",
              "        vertical-align: middle;\n",
              "    }\n",
              "\n",
              "    .dataframe tbody tr th {\n",
              "        vertical-align: top;\n",
              "    }\n",
              "\n",
              "    .dataframe thead th {\n",
              "        text-align: right;\n",
              "    }\n",
              "</style>\n",
              "<table border=\"1\" class=\"dataframe\">\n",
              "  <thead>\n",
              "    <tr style=\"text-align: right;\">\n",
              "      <th></th>\n",
              "      <th>Confirmed</th>\n",
              "      <th>Recovered</th>\n",
              "      <th>S</th>\n",
              "      <th>I</th>\n",
              "      <th>R</th>\n",
              "    </tr>\n",
              "  </thead>\n",
              "  <tbody>\n",
              "    <tr>\n",
              "      <th>1/22/20</th>\n",
              "      <td>1</td>\n",
              "      <td>0</td>\n",
              "      <td>15000.000000</td>\n",
              "      <td>2.000000</td>\n",
              "      <td>0.000000</td>\n",
              "    </tr>\n",
              "    <tr>\n",
              "      <th>1/23/20</th>\n",
              "      <td>1</td>\n",
              "      <td>0</td>\n",
              "      <td>14999.844710</td>\n",
              "      <td>2.151182</td>\n",
              "      <td>0.004107</td>\n",
              "    </tr>\n",
              "    <tr>\n",
              "      <th>1/24/20</th>\n",
              "      <td>1</td>\n",
              "      <td>0</td>\n",
              "      <td>14999.677673</td>\n",
              "      <td>2.313802</td>\n",
              "      <td>0.008525</td>\n",
              "    </tr>\n",
              "    <tr>\n",
              "      <th>1/25/20</th>\n",
              "      <td>1</td>\n",
              "      <td>0</td>\n",
              "      <td>14999.498012</td>\n",
              "      <td>2.488711</td>\n",
              "      <td>0.013277</td>\n",
              "    </tr>\n",
              "    <tr>\n",
              "      <th>1/26/20</th>\n",
              "      <td>1</td>\n",
              "      <td>0</td>\n",
              "      <td>14999.304785</td>\n",
              "      <td>2.676828</td>\n",
              "      <td>0.018387</td>\n",
              "    </tr>\n",
              "    <tr>\n",
              "      <th>...</th>\n",
              "      <td>...</td>\n",
              "      <td>...</td>\n",
              "      <td>...</td>\n",
              "      <td>...</td>\n",
              "      <td>...</td>\n",
              "    </tr>\n",
              "    <tr>\n",
              "      <th>06/15/20</th>\n",
              "      <td>None</td>\n",
              "      <td>None</td>\n",
              "      <td>2451.958419</td>\n",
              "      <td>11832.634834</td>\n",
              "      <td>717.406746</td>\n",
              "    </tr>\n",
              "    <tr>\n",
              "      <th>06/16/20</th>\n",
              "      <td>None</td>\n",
              "      <td>None</td>\n",
              "      <td>2310.688499</td>\n",
              "      <td>11950.360886</td>\n",
              "      <td>740.950615</td>\n",
              "    </tr>\n",
              "    <tr>\n",
              "      <th>06/17/20</th>\n",
              "      <td>None</td>\n",
              "      <td>None</td>\n",
              "      <td>2176.412502</td>\n",
              "      <td>12060.864778</td>\n",
              "      <td>764.722720</td>\n",
              "    </tr>\n",
              "    <tr>\n",
              "      <th>06/18/20</th>\n",
              "      <td>None</td>\n",
              "      <td>None</td>\n",
              "      <td>2048.912631</td>\n",
              "      <td>12164.379453</td>\n",
              "      <td>788.707917</td>\n",
              "    </tr>\n",
              "    <tr>\n",
              "      <th>06/19/20</th>\n",
              "      <td>None</td>\n",
              "      <td>None</td>\n",
              "      <td>1927.931942</td>\n",
              "      <td>12261.177098</td>\n",
              "      <td>812.890960</td>\n",
              "    </tr>\n",
              "  </tbody>\n",
              "</table>\n",
              "<p>150 rows × 5 columns</p>\n",
              "</div>"
            ],
            "text/plain": [
              "         Confirmed Recovered             S             I           R\n",
              "1/22/20          1         0  15000.000000      2.000000    0.000000\n",
              "1/23/20          1         0  14999.844710      2.151182    0.004107\n",
              "1/24/20          1         0  14999.677673      2.313802    0.008525\n",
              "1/25/20          1         0  14999.498012      2.488711    0.013277\n",
              "1/26/20          1         0  14999.304785      2.676828    0.018387\n",
              "...            ...       ...           ...           ...         ...\n",
              "06/15/20      None      None   2451.958419  11832.634834  717.406746\n",
              "06/16/20      None      None   2310.688499  11950.360886  740.950615\n",
              "06/17/20      None      None   2176.412502  12060.864778  764.722720\n",
              "06/18/20      None      None   2048.912631  12164.379453  788.707917\n",
              "06/19/20      None      None   1927.931942  12261.177098  812.890960\n",
              "\n",
              "[150 rows x 5 columns]"
            ]
          },
          "metadata": {
            "tags": []
          },
          "execution_count": 20
        },
        {
          "output_type": "display_data",
          "data": {
            "image/png": "[encoded data removed]",
            "text/plain": [
              "<Figure size 1080x720 with 1 Axes>"
            ]
          },
          "metadata": {
            "tags": []
          }
        }
      ]
    },
    {
      "cell_type": "code",
      "metadata": {
        "id": "ECL4VibQyO7J",
        "colab_type": "code",
        "outputId": "3525f897-c353-4816-ee8d-6908fbf37e62",
        "colab": {
          "base_uri": "https://localhost:8080/",
          "height": 1000
        }
      },
      "source": [
        "learner = Learner('Republic of Korea', loss)\n",
        "learner.train()\n"
      ],
      "execution_count": 0,
      "outputs": [
        {
          "output_type": "stream",
          "text": [
            "      fun: 87.7971892496024\n",
            " hess_inv: <2x2 LbfgsInvHessProduct with dtype=float64>\n",
            "      jac: array([809663.12364268,   3085.88376896])\n",
            "  message: b'ABNORMAL_TERMINATION_IN_LNSRCH'\n",
            "     nfev: 180\n",
            "      nit: 4\n",
            "   status: 2\n",
            "  success: False\n",
            "        x: array([1.29776738e-05, 1.00000000e-08])\n",
            "country=Republic of Korea, beta=0.00001298, gamma=0.00000001, r_0:1297.76738286\n"
          ],
          "name": "stdout"
        },
        {
          "output_type": "execute_result",
          "data": {
            "text/html": [
              "<div>\n",
              "<style scoped>\n",
              "    .dataframe tbody tr th:only-of-type {\n",
              "        vertical-align: middle;\n",
              "    }\n",
              "\n",
              "    .dataframe tbody tr th {\n",
              "        vertical-align: top;\n",
              "    }\n",
              "\n",
              "    .dataframe thead th {\n",
              "        text-align: right;\n",
              "    }\n",
              "</style>\n",
              "<table border=\"1\" class=\"dataframe\">\n",
              "  <thead>\n",
              "    <tr style=\"text-align: right;\">\n",
              "      <th></th>\n",
              "      <th>Confirmed</th>\n",
              "      <th>Recovered</th>\n",
              "      <th>S</th>\n",
              "      <th>I</th>\n",
              "      <th>R</th>\n",
              "    </tr>\n",
              "  </thead>\n",
              "  <tbody>\n",
              "    <tr>\n",
              "      <th>1/22/20</th>\n",
              "      <td>1</td>\n",
              "      <td>0</td>\n",
              "      <td>15000.000000</td>\n",
              "      <td>2.000000</td>\n",
              "      <td>0.000000e+00</td>\n",
              "    </tr>\n",
              "    <tr>\n",
              "      <th>1/23/20</th>\n",
              "      <td>1</td>\n",
              "      <td>0</td>\n",
              "      <td>14999.570198</td>\n",
              "      <td>2.429802</td>\n",
              "      <td>2.207938e-08</td>\n",
              "    </tr>\n",
              "    <tr>\n",
              "      <th>1/24/20</th>\n",
              "      <td>2</td>\n",
              "      <td>0</td>\n",
              "      <td>14999.047998</td>\n",
              "      <td>2.952002</td>\n",
              "      <td>4.890619e-08</td>\n",
              "    </tr>\n",
              "    <tr>\n",
              "      <th>1/25/20</th>\n",
              "      <td>2</td>\n",
              "      <td>0</td>\n",
              "      <td>14998.413404</td>\n",
              "      <td>3.586596</td>\n",
              "      <td>8.150842e-08</td>\n",
              "    </tr>\n",
              "    <tr>\n",
              "      <th>1/26/20</th>\n",
              "      <td>3</td>\n",
              "      <td>0</td>\n",
              "      <td>14997.643233</td>\n",
              "      <td>4.356767</td>\n",
              "      <td>1.210776e-07</td>\n",
              "    </tr>\n",
              "    <tr>\n",
              "      <th>...</th>\n",
              "      <td>...</td>\n",
              "      <td>...</td>\n",
              "      <td>...</td>\n",
              "      <td>...</td>\n",
              "      <td>...</td>\n",
              "    </tr>\n",
              "    <tr>\n",
              "      <th>06/15/20</th>\n",
              "      <td>None</td>\n",
              "      <td>None</td>\n",
              "      <td>0.000063</td>\n",
              "      <td>15001.985058</td>\n",
              "      <td>1.487914e-02</td>\n",
              "    </tr>\n",
              "    <tr>\n",
              "      <th>06/16/20</th>\n",
              "      <td>None</td>\n",
              "      <td>None</td>\n",
              "      <td>0.000052</td>\n",
              "      <td>15001.984919</td>\n",
              "      <td>1.502916e-02</td>\n",
              "    </tr>\n",
              "    <tr>\n",
              "      <th>06/17/20</th>\n",
              "      <td>None</td>\n",
              "      <td>None</td>\n",
              "      <td>0.000043</td>\n",
              "      <td>15001.984778</td>\n",
              "      <td>1.517918e-02</td>\n",
              "    </tr>\n",
              "    <tr>\n",
              "      <th>06/18/20</th>\n",
              "      <td>None</td>\n",
              "      <td>None</td>\n",
              "      <td>0.000035</td>\n",
              "      <td>15001.984636</td>\n",
              "      <td>1.532920e-02</td>\n",
              "    </tr>\n",
              "    <tr>\n",
              "      <th>06/19/20</th>\n",
              "      <td>None</td>\n",
              "      <td>None</td>\n",
              "      <td>0.000029</td>\n",
              "      <td>15001.984492</td>\n",
              "      <td>1.547922e-02</td>\n",
              "    </tr>\n",
              "  </tbody>\n",
              "</table>\n",
              "<p>150 rows × 5 columns</p>\n",
              "</div>"
            ],
            "text/plain": [
              "         Confirmed Recovered             S             I             R\n",
              "1/22/20          1         0  15000.000000      2.000000  0.000000e+00\n",
              "1/23/20          1         0  14999.570198      2.429802  2.207938e-08\n",
              "1/24/20          2         0  14999.047998      2.952002  4.890619e-08\n",
              "1/25/20          2         0  14998.413404      3.586596  8.150842e-08\n",
              "1/26/20          3         0  14997.643233      4.356767  1.210776e-07\n",
              "...            ...       ...           ...           ...           ...\n",
              "06/15/20      None      None      0.000063  15001.985058  1.487914e-02\n",
              "06/16/20      None      None      0.000052  15001.984919  1.502916e-02\n",
              "06/17/20      None      None      0.000043  15001.984778  1.517918e-02\n",
              "06/18/20      None      None      0.000035  15001.984636  1.532920e-02\n",
              "06/19/20      None      None      0.000029  15001.984492  1.547922e-02\n",
              "\n",
              "[150 rows x 5 columns]"
            ]
          },
          "metadata": {
            "tags": []
          },
          "execution_count": 21
        },
        {
          "output_type": "display_data",
          "data": {
            "image/png": "[encoded data removed]",
            "text/plain": [
              "<Figure size 1080x720 with 1 Axes>"
            ]
          },
          "metadata": {
            "tags": []
          }
        }
      ]
    },
    {
      "cell_type": "code",
      "metadata": {
        "id": "kHtsMVZQ1s4C",
        "colab_type": "code",
        "colab": {}
      },
      "source": [
        "learner = Learner('Italy', loss)\n",
        "learner.train()\n",
        "learner = Learner('Iran (Islamic Republic of)', loss)\n",
        "learner.train()"
      ],
      "execution_count": 0,
      "outputs": []
    }
  ]
}