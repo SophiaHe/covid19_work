{
  "nbformat": 4,
  "nbformat_minor": 0,
  "metadata": {
    "colab": {
      "name": "ImportCovid19.ipynb",
      "provenance": [],
      "authorship_tag": "ABX9TyOfQeuKtqKKNmON4bO4uuQP",
      "include_colab_link": true
    },
    "kernelspec": {
      "name": "python3",
      "display_name": "Python 3"
    }
  },
  "cells": [
    {
      "cell_type": "markdown",
      "metadata": {
        "id": "view-in-github",
        "colab_type": "text"
      },
      "source": [
        "<a href=\"https://colab.research.google.com/github/SophiaHe/covid19/blob/master/ImportCovid19.ipynb\" target=\"_parent\"><img src=\"https://colab.research.google.com/assets/colab-badge.svg\" alt=\"Open In Colab\"/></a>"
      ]
    },
    {
      "cell_type": "code",
      "metadata": {
        "id": "NIJBN4I50b92",
        "colab_type": "code",
        "colab": {}
      },
      "source": [
        "import pandas as pd\n",
        "import wget\n",
        "\n",
        "urls = ['https://raw.githubusercontent.com/CSSEGISandData/COVID-19/master/csse_covid_19_data/csse_covid_19_time_series/time_series_19-covid-Confirmed.csv', \n",
        "        'https://raw.githubusercontent.com/CSSEGISandData/COVID-19/master/csse_covid_19_data/csse_covid_19_time_series/time_series_19-covid-Deaths.csv', \n",
        "        'https://raw.githubusercontent.com/CSSEGISandData/COVID-19/master/csse_covid_19_data/csse_covid_19_time_series/time_series_19-covid-Recovered.csv']\n",
        "for url in urls:\n",
        "    filename = wget.download(url)\n",
        "\n",
        "conf_df = pd.read_csv('time_series_19-covid-Confirmed.csv')\n",
        "deaths_df = pd.read_csv('time_series_19-covid-Deaths.csv')\n",
        "recv_df = pd.read_csv('time_series_19-covid-Recovered.csv')\n",
        "\n",
        "dates = conf_df.columns[4:]\n",
        "\n",
        "conf_df_long = conf_df.melt(id_vars=['Province/State', 'Country/Region', 'Lat', 'Long'], \n",
        "                            value_vars=dates, var_name='Date', value_name='Confirmed')\n",
        "\n",
        "deaths_df_long = deaths_df.melt(id_vars=['Province/State', 'Country/Region', 'Lat', 'Long'], \n",
        "                            value_vars=dates, var_name='Date', value_name='Deaths')\n",
        "\n",
        "recv_df_long = recv_df.melt(id_vars=['Province/State', 'Country/Region', 'Lat', 'Long'], \n",
        "                            value_vars=dates, var_name='Date', value_name='Recovered')\n",
        "\n",
        "full_table = pd.concat([conf_df_long, deaths_df_long['Deaths'], recv_df_long['Recovered']], \n",
        "                       axis=1, sort=False)\n",
        "\n",
        "full_table.head()"
      ],
      "execution_count": 0,
      "outputs": []
    },
    {
      "cell_type": "code",
      "metadata": {
        "id": "Xvay6nTp0feg",
        "colab_type": "code",
        "colab": {}
      },
      "source": [
        "full_table = full_table[full_table['Province/State'].str.contains(',')!=True]\n",
        "full_table.to_csv('covid_19_clean_complete.csv', index=False)"
      ],
      "execution_count": 0,
      "outputs": []
    }
  ]
}