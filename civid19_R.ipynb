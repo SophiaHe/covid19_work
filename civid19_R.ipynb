{
  "nbformat": 4,
  "nbformat_minor": 0,
  "metadata": {
    "colab": {
      "name": "civid19_R.ipynb",
      "provenance": [],
      "collapsed_sections": [],
      "toc_visible": true,
      "authorship_tag": "ABX9TyPOrdDNLIzF/6QLTZfDZPtQ",
      "include_colab_link": true
    },
    "kernelspec": {
      "name": "ir",
      "display_name": "R"
    }
  },
  "cells": [
    {
      "cell_type": "markdown",
      "metadata": {
        "id": "view-in-github",
        "colab_type": "text"
      },
      "source": [
        "<a href=\"https://colab.research.google.com/github/SophiaHe/covid19/blob/master/civid19_R.ipynb\" target=\"_parent\"><img src=\"https://colab.research.google.com/assets/colab-badge.svg\" alt=\"Open In Colab\"/></a>"
      ]
    },
    {
      "cell_type": "code",
      "metadata": {
        "id": "Pje8pqoYOamB",
        "colab_type": "code",
        "colab": {}
      },
      "source": [
        "library(tidyverse)\n",
        "library(lubridate)\n",
        "\n",
        "df <- read.csv(\"covid_19_clean_complete.csv\", header = T)\n",
        "\n",
        "df2 <- df %>% mutate(Date = as.Date(paste0(as.character(Date),\"20\"),\"%m/%d/%Y\")) %>% \n",
        "  group_by(Date,Country.Region) %>% \n",
        "  summarize(total_confirmed = sum(Confirmed), \n",
        "            total_deaths = sum(Deaths), \n",
        "            total_recovered = sum(Recovered))\n",
        "\n",
        "ggplot(data=df2 %>% filter(Country.Region %in% c( \"US\", \"Canada\")),aes(x=Date,y=total_confirmed))+ \n",
        "  geom_line(aes(color = Country.Region)) "
      ],
      "execution_count": 0,
      "outputs": []
    }
  ]
}