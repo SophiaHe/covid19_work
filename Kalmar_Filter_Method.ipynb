{
  "nbformat": 4,
  "nbformat_minor": 0,
  "metadata": {
    "colab": {
      "name": "Kalmar Filter Method",
      "provenance": [],
      "authorship_tag": "ABX9TyNUXPOXqw7hfdLi1xBTm3hO",
      "include_colab_link": true
    },
    "kernelspec": {
      "name": "python3",
      "display_name": "Python 3"
    }
  },
  "cells": [
    {
      "cell_type": "markdown",
      "metadata": {
        "id": "view-in-github",
        "colab_type": "text"
      },
      "source": [
        "<a href=\"https://colab.research.google.com/github/SophiaHe/covid19_work/blob/master/Kalmar_Filter_Method.ipynb\" target=\"_parent\"><img src=\"https://colab.research.google.com/assets/colab-badge.svg\" alt=\"Open In Colab\"/></a>"
      ]
    },
    {
      "cell_type": "code",
      "metadata": {
        "id": "FCF6b7OYB8nL",
        "colab_type": "code",
        "colab": {}
      },
      "source": [
        "# Get data from Github\n",
        "import numpy as np\n",
        "from math import sqrt\n",
        "from sklearn.metrics import mean_squared_error\n",
        "import pandas as pd\n",
        "#url = 'https://raw.githubusercontent.com/CSSEGISandData/COVID-19/master/csse_covid_19_data/csse_covid_19_time_series/time_series_19-covid-Confirmed.csv'\n",
        "url = 'https://raw.githubusercontent.com/CSSEGISandData/COVID-19/master/csse_covid_19_data/csse_covid_19_time_series/time_series_19-covid-Confirmed.csv'\n",
        "confirmed = pd.read_csv(url, error_bad_lines=False)\n",
        "url = 'https://raw.githubusercontent.com/CSSEGISandData/COVID-19/master/csse_covid_19_data/csse_covid_19_time_series/time_series_19-covid-Deaths.csv'\n",
        "death = pd.read_csv(url, error_bad_lines=False)\n",
        "url = 'https://raw.githubusercontent.com/CSSEGISandData/COVID-19/master/csse_covid_19_data/csse_covid_19_time_series/time_series_19-covid-Recovered.csv'\n",
        "recover = pd.read_csv(url, error_bad_lines=False)\n",
        "\n",
        "# fix region names\n",
        "confirmed['Country/Region']= confirmed['Country/Region'].str.replace(\"Mainland China\", \"China\")\n",
        "confirmed['Country/Region']= confirmed['Country/Region'].str.replace(\"US\", \"Unites States\")\n",
        "death['Country/Region']= death['Country/Region'].str.replace(\"Mainland China\", \"China\")\n",
        "death['Country/Region']= death['Country/Region'].str.replace(\"US\", \"Unites States\")\n",
        "recover['Country/Region']= recover['Country/Region'].str.replace(\"Mainland China\", \"China\")\n",
        "recover['Country/Region']= recover['Country/Region'].str.replace(\"US\", \"Unites States\")"
      ],
      "execution_count": 0,
      "outputs": []
    },
    {
      "cell_type": "code",
      "metadata": {
        "id": "lSS4QRGSCR99",
        "colab_type": "code",
        "colab": {}
      },
      "source": [
        "population=pd.read_csv('https://raw.githubusercontent.com/SophiaHe/COVID19/master/population.csv', sep=',', encoding='latin1') \n",
        "confirmed=pd.merge(confirmed, population,how='left' ,on=['Province/State','Country/Region'])\n",
        "death=pd.merge(death, population,how='left' ,on=['Province/State','Country/Region'])\n",
        "recover=pd.merge(recover, population,how='left' ,on=['Province/State','Country/Region'])\n",
        "\n",
        "# merge region\n",
        "confirmed['region']=confirmed['Country/Region'].map(str)+'_'+confirmed['Province/State'].map(str)\n",
        "death['region']=death['Country/Region'].map(str)+'_'+death['Province/State'].map(str)\n",
        "recover['region']=recover['Country/Region'].map(str)+'_'+recover['Province/State'].map(str)\n",
        "\n",
        "def create_ts(df):\n",
        "  ts=df\n",
        "  ts=ts.drop(['Province/State', 'Country/Region','Lat', 'Long',' Population '], axis=1)\n",
        "  ts.set_index('region')\n",
        "  ts=ts.T\n",
        "  ts.columns=ts.loc['region']\n",
        "  ts=ts.drop('region')\n",
        "  ts=ts.fillna(0)\n",
        "  ts=ts.reindex(sorted(ts.columns), axis=1)\n",
        "  return (ts)\n",
        "\n",
        "\n",
        "ts=create_ts(confirmed)\n",
        "ts_d=create_ts(death)\n",
        "ts_rec=create_ts(recover)\n",
        "\n",
        "# Create data for R script\n",
        "ts_r=ts.reset_index()\n",
        "ts_r=ts_r.rename(columns = {'index':'date'})\n",
        "ts_r['date']=pd.to_datetime(ts_r['date'] ,errors ='coerce')\n",
        "ts_r.to_csv(r'ts_r.csv')"
      ],
      "execution_count": 0,
      "outputs": []
    },
    {
      "cell_type": "code",
      "metadata": {
        "id": "eaWoJ6uIFjaT",
        "colab_type": "code",
        "outputId": "3a6442dd-2ea8-43e1-ab48-24d3d583211a",
        "colab": {
          "base_uri": "https://localhost:8080/",
          "height": 131
        }
      },
      "source": [
        "import rpy2\n",
        "%load_ext rpy2.ipython\n",
        "\n",
        "%%R\n",
        "!install.packages('pracma')\n",
        "!install.packages('reshape')"
      ],
      "execution_count": 0,
      "outputs": [
        {
          "output_type": "error",
          "ename": "SyntaxError",
          "evalue": "ignored",
          "traceback": [
            "\u001b[0;36m  File \u001b[0;32m\"<ipython-input-8-11c5806545a2>\"\u001b[0;36m, line \u001b[0;32m4\u001b[0m\n\u001b[0;31m    %%R\u001b[0m\n\u001b[0m    ^\u001b[0m\n\u001b[0;31mSyntaxError\u001b[0m\u001b[0;31m:\u001b[0m invalid syntax\n"
          ]
        }
      ]
    }
  ]
}